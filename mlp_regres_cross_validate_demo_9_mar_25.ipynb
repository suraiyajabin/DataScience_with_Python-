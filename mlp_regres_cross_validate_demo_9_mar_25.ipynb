{
 "cells": [
  {
   "cell_type": "code",
   "execution_count": null,
   "metadata": {},
   "outputs": [],
   "source": [
    "#let's train a MLP regression model using this data \"dm_office_sales.csv\"\n",
    "#for that we will first separate out X ie features from label ie y\n",
    "#then we will Train/Test split the data\n",
    "#we don't need to normalize continuous valued output column/target label\n",
    "#as that's what we want to predict in the real-world, hence don't change its value\n",
    "#then we will fit a normalization model on feature vectors only of Train data ir X_Train by calling fit()\n",
    "#as we do not want to assume any information from the Test dataset otherwise it will result in data leakage\n",
    "#we do not want any information leaking from the Test dataset or pre-conceived distribution of Test set, \n",
    "# so we use fit() method of StandardScaler for X_Train only\n",
    "# Then it basically learns mean and standard deviation of Train dataset, to scale X_train values feature wise mean centered \n",
    "#use this Normalizer object on feature vectors only of Test data ie X_Test by calling transform() \n",
    "#as we want to handle pre-processing of X_Train/X_Test using handled similar methods\n",
    "#our objective is to predict sales using 5 input features where first 2 features are categorical, and next 3 features are numeric\n",
    "#also each numeric feature is measuring things under different units"
   ]
  },
  {
   "cell_type": "code",
   "execution_count": 1,
   "metadata": {},
   "outputs": [],
   "source": [
    "import numpy as np\n",
    "import pandas as pd\n",
    "import matplotlib.pyplot as plt\n",
    "import seaborn as sns\n",
    "from sklearn.metrics import mean_absolute_error, mean_squared_error,root_mean_squared_error,r2_score,make_scorer\n",
    "from sklearn.neural_network import MLPRegressor"
   ]
  },
  {
   "cell_type": "code",
   "execution_count": 2,
   "metadata": {},
   "outputs": [],
   "source": [
    "df=pd.read_csv(\"dm_office_sales.csv\")"
   ]
  },
  {
   "cell_type": "code",
   "execution_count": 3,
   "metadata": {},
   "outputs": [
    {
     "data": {
      "text/html": [
       "<div>\n",
       "<style scoped>\n",
       "    .dataframe tbody tr th:only-of-type {\n",
       "        vertical-align: middle;\n",
       "    }\n",
       "\n",
       "    .dataframe tbody tr th {\n",
       "        vertical-align: top;\n",
       "    }\n",
       "\n",
       "    .dataframe thead th {\n",
       "        text-align: right;\n",
       "    }\n",
       "</style>\n",
       "<table border=\"1\" class=\"dataframe\">\n",
       "  <thead>\n",
       "    <tr style=\"text-align: right;\">\n",
       "      <th></th>\n",
       "      <th>division</th>\n",
       "      <th>level of education</th>\n",
       "      <th>training level</th>\n",
       "      <th>work experience</th>\n",
       "      <th>salary</th>\n",
       "      <th>sales</th>\n",
       "    </tr>\n",
       "  </thead>\n",
       "  <tbody>\n",
       "    <tr>\n",
       "      <th>0</th>\n",
       "      <td>printers</td>\n",
       "      <td>some college</td>\n",
       "      <td>2</td>\n",
       "      <td>6</td>\n",
       "      <td>91684</td>\n",
       "      <td>372302</td>\n",
       "    </tr>\n",
       "    <tr>\n",
       "      <th>1</th>\n",
       "      <td>printers</td>\n",
       "      <td>associate's degree</td>\n",
       "      <td>2</td>\n",
       "      <td>10</td>\n",
       "      <td>119679</td>\n",
       "      <td>495660</td>\n",
       "    </tr>\n",
       "    <tr>\n",
       "      <th>2</th>\n",
       "      <td>peripherals</td>\n",
       "      <td>high school</td>\n",
       "      <td>0</td>\n",
       "      <td>9</td>\n",
       "      <td>82045</td>\n",
       "      <td>320453</td>\n",
       "    </tr>\n",
       "    <tr>\n",
       "      <th>3</th>\n",
       "      <td>office supplies</td>\n",
       "      <td>associate's degree</td>\n",
       "      <td>2</td>\n",
       "      <td>5</td>\n",
       "      <td>92949</td>\n",
       "      <td>377148</td>\n",
       "    </tr>\n",
       "    <tr>\n",
       "      <th>4</th>\n",
       "      <td>office supplies</td>\n",
       "      <td>high school</td>\n",
       "      <td>1</td>\n",
       "      <td>5</td>\n",
       "      <td>71280</td>\n",
       "      <td>312802</td>\n",
       "    </tr>\n",
       "  </tbody>\n",
       "</table>\n",
       "</div>"
      ],
      "text/plain": [
       "          division  level of education  training level  work experience  \\\n",
       "0         printers        some college               2                6   \n",
       "1         printers  associate's degree               2               10   \n",
       "2      peripherals         high school               0                9   \n",
       "3  office supplies  associate's degree               2                5   \n",
       "4  office supplies         high school               1                5   \n",
       "\n",
       "   salary   sales  \n",
       "0   91684  372302  \n",
       "1  119679  495660  \n",
       "2   82045  320453  \n",
       "3   92949  377148  \n",
       "4   71280  312802  "
      ]
     },
     "execution_count": 3,
     "metadata": {},
     "output_type": "execute_result"
    }
   ],
   "source": [
    "df.head()"
   ]
  },
  {
   "cell_type": "code",
   "execution_count": 4,
   "metadata": {},
   "outputs": [
    {
     "data": {
      "text/plain": [
       "(1000, 6)"
      ]
     },
     "execution_count": 4,
     "metadata": {},
     "output_type": "execute_result"
    }
   ],
   "source": [
    "df.shape"
   ]
  },
  {
   "cell_type": "code",
   "execution_count": 5,
   "metadata": {},
   "outputs": [],
   "source": [
    "X=df.iloc[:,:-1] #.values\n",
    "y=df.iloc[:,-1] #.values #turn df to NumPy array"
   ]
  },
  {
   "cell_type": "code",
   "execution_count": null,
   "metadata": {},
   "outputs": [],
   "source": [
    "#help(train_test_split)"
   ]
  },
  {
   "cell_type": "code",
   "execution_count": 6,
   "metadata": {},
   "outputs": [],
   "source": [
    "from sklearn.model_selection import train_test_split\n",
    "X_train, X_test, y_train, y_test = train_test_split(X, y, test_size=0.33, random_state=42)\n",
    "#if we want to compare multiple ml models, they must have same train/test split, \n",
    "#i.e. same Train data and Test data\n",
    "# random state =\"same number\" ensures it.\n",
    "#if you want to run multiple experiments\n",
    "#each with a new Train/Test data\n",
    "#keep changing the value of random_state option"
   ]
  },
  {
   "cell_type": "code",
   "execution_count": 7,
   "metadata": {},
   "outputs": [],
   "source": [
    "from sklearn.preprocessing import OneHotEncoder, StandardScaler\n",
    "encoder=OneHotEncoder(sparse_output=False,drop='first')\n",
    "#drop=first to avoid dummy variable trap\n",
    "scaler=StandardScaler()\n"
   ]
  },
  {
   "cell_type": "code",
   "execution_count": 8,
   "metadata": {},
   "outputs": [
    {
     "data": {
      "text/html": [
       "<div>\n",
       "<style scoped>\n",
       "    .dataframe tbody tr th:only-of-type {\n",
       "        vertical-align: middle;\n",
       "    }\n",
       "\n",
       "    .dataframe tbody tr th {\n",
       "        vertical-align: top;\n",
       "    }\n",
       "\n",
       "    .dataframe thead th {\n",
       "        text-align: right;\n",
       "    }\n",
       "</style>\n",
       "<table border=\"1\" class=\"dataframe\">\n",
       "  <thead>\n",
       "    <tr style=\"text-align: right;\">\n",
       "      <th></th>\n",
       "      <th>division</th>\n",
       "      <th>level of education</th>\n",
       "      <th>training level</th>\n",
       "      <th>work experience</th>\n",
       "      <th>salary</th>\n",
       "    </tr>\n",
       "  </thead>\n",
       "  <tbody>\n",
       "    <tr>\n",
       "      <th>703</th>\n",
       "      <td>printers</td>\n",
       "      <td>some college</td>\n",
       "      <td>1</td>\n",
       "      <td>3</td>\n",
       "      <td>69827</td>\n",
       "    </tr>\n",
       "    <tr>\n",
       "      <th>311</th>\n",
       "      <td>office supplies</td>\n",
       "      <td>associate's degree</td>\n",
       "      <td>0</td>\n",
       "      <td>7</td>\n",
       "      <td>96135</td>\n",
       "    </tr>\n",
       "    <tr>\n",
       "      <th>722</th>\n",
       "      <td>printers</td>\n",
       "      <td>some college</td>\n",
       "      <td>1</td>\n",
       "      <td>5</td>\n",
       "      <td>85711</td>\n",
       "    </tr>\n",
       "    <tr>\n",
       "      <th>629</th>\n",
       "      <td>printers</td>\n",
       "      <td>associate's degree</td>\n",
       "      <td>1</td>\n",
       "      <td>4</td>\n",
       "      <td>73192</td>\n",
       "    </tr>\n",
       "    <tr>\n",
       "      <th>0</th>\n",
       "      <td>printers</td>\n",
       "      <td>some college</td>\n",
       "      <td>2</td>\n",
       "      <td>6</td>\n",
       "      <td>91684</td>\n",
       "    </tr>\n",
       "    <tr>\n",
       "      <th>...</th>\n",
       "      <td>...</td>\n",
       "      <td>...</td>\n",
       "      <td>...</td>\n",
       "      <td>...</td>\n",
       "      <td>...</td>\n",
       "    </tr>\n",
       "    <tr>\n",
       "      <th>106</th>\n",
       "      <td>printers</td>\n",
       "      <td>associate's degree</td>\n",
       "      <td>1</td>\n",
       "      <td>7</td>\n",
       "      <td>96834</td>\n",
       "    </tr>\n",
       "    <tr>\n",
       "      <th>270</th>\n",
       "      <td>printers</td>\n",
       "      <td>high school</td>\n",
       "      <td>1</td>\n",
       "      <td>2</td>\n",
       "      <td>58603</td>\n",
       "    </tr>\n",
       "    <tr>\n",
       "      <th>860</th>\n",
       "      <td>computer hardware</td>\n",
       "      <td>high school</td>\n",
       "      <td>3</td>\n",
       "      <td>4</td>\n",
       "      <td>95202</td>\n",
       "    </tr>\n",
       "    <tr>\n",
       "      <th>435</th>\n",
       "      <td>peripherals</td>\n",
       "      <td>high school</td>\n",
       "      <td>3</td>\n",
       "      <td>9</td>\n",
       "      <td>105047</td>\n",
       "    </tr>\n",
       "    <tr>\n",
       "      <th>102</th>\n",
       "      <td>office supplies</td>\n",
       "      <td>bachelor's degree</td>\n",
       "      <td>1</td>\n",
       "      <td>1</td>\n",
       "      <td>64852</td>\n",
       "    </tr>\n",
       "  </tbody>\n",
       "</table>\n",
       "<p>670 rows × 5 columns</p>\n",
       "</div>"
      ],
      "text/plain": [
       "              division  level of education  training level  work experience  \\\n",
       "703           printers        some college               1                3   \n",
       "311    office supplies  associate's degree               0                7   \n",
       "722           printers        some college               1                5   \n",
       "629           printers  associate's degree               1                4   \n",
       "0             printers        some college               2                6   \n",
       "..                 ...                 ...             ...              ...   \n",
       "106           printers  associate's degree               1                7   \n",
       "270           printers         high school               1                2   \n",
       "860  computer hardware         high school               3                4   \n",
       "435        peripherals         high school               3                9   \n",
       "102    office supplies   bachelor's degree               1                1   \n",
       "\n",
       "     salary  \n",
       "703   69827  \n",
       "311   96135  \n",
       "722   85711  \n",
       "629   73192  \n",
       "0     91684  \n",
       "..      ...  \n",
       "106   96834  \n",
       "270   58603  \n",
       "860   95202  \n",
       "435  105047  \n",
       "102   64852  \n",
       "\n",
       "[670 rows x 5 columns]"
      ]
     },
     "execution_count": 8,
     "metadata": {},
     "output_type": "execute_result"
    }
   ],
   "source": [
    "X_train"
   ]
  },
  {
   "cell_type": "code",
   "execution_count": 9,
   "metadata": {},
   "outputs": [
    {
     "data": {
      "text/html": [
       "<style>#sk-container-id-1 {\n",
       "  /* Definition of color scheme common for light and dark mode */\n",
       "  --sklearn-color-text: black;\n",
       "  --sklearn-color-line: gray;\n",
       "  /* Definition of color scheme for unfitted estimators */\n",
       "  --sklearn-color-unfitted-level-0: #fff5e6;\n",
       "  --sklearn-color-unfitted-level-1: #f6e4d2;\n",
       "  --sklearn-color-unfitted-level-2: #ffe0b3;\n",
       "  --sklearn-color-unfitted-level-3: chocolate;\n",
       "  /* Definition of color scheme for fitted estimators */\n",
       "  --sklearn-color-fitted-level-0: #f0f8ff;\n",
       "  --sklearn-color-fitted-level-1: #d4ebff;\n",
       "  --sklearn-color-fitted-level-2: #b3dbfd;\n",
       "  --sklearn-color-fitted-level-3: cornflowerblue;\n",
       "\n",
       "  /* Specific color for light theme */\n",
       "  --sklearn-color-text-on-default-background: var(--sg-text-color, var(--theme-code-foreground, var(--jp-content-font-color1, black)));\n",
       "  --sklearn-color-background: var(--sg-background-color, var(--theme-background, var(--jp-layout-color0, white)));\n",
       "  --sklearn-color-border-box: var(--sg-text-color, var(--theme-code-foreground, var(--jp-content-font-color1, black)));\n",
       "  --sklearn-color-icon: #696969;\n",
       "\n",
       "  @media (prefers-color-scheme: dark) {\n",
       "    /* Redefinition of color scheme for dark theme */\n",
       "    --sklearn-color-text-on-default-background: var(--sg-text-color, var(--theme-code-foreground, var(--jp-content-font-color1, white)));\n",
       "    --sklearn-color-background: var(--sg-background-color, var(--theme-background, var(--jp-layout-color0, #111)));\n",
       "    --sklearn-color-border-box: var(--sg-text-color, var(--theme-code-foreground, var(--jp-content-font-color1, white)));\n",
       "    --sklearn-color-icon: #878787;\n",
       "  }\n",
       "}\n",
       "\n",
       "#sk-container-id-1 {\n",
       "  color: var(--sklearn-color-text);\n",
       "}\n",
       "\n",
       "#sk-container-id-1 pre {\n",
       "  padding: 0;\n",
       "}\n",
       "\n",
       "#sk-container-id-1 input.sk-hidden--visually {\n",
       "  border: 0;\n",
       "  clip: rect(1px 1px 1px 1px);\n",
       "  clip: rect(1px, 1px, 1px, 1px);\n",
       "  height: 1px;\n",
       "  margin: -1px;\n",
       "  overflow: hidden;\n",
       "  padding: 0;\n",
       "  position: absolute;\n",
       "  width: 1px;\n",
       "}\n",
       "\n",
       "#sk-container-id-1 div.sk-dashed-wrapped {\n",
       "  border: 1px dashed var(--sklearn-color-line);\n",
       "  margin: 0 0.4em 0.5em 0.4em;\n",
       "  box-sizing: border-box;\n",
       "  padding-bottom: 0.4em;\n",
       "  background-color: var(--sklearn-color-background);\n",
       "}\n",
       "\n",
       "#sk-container-id-1 div.sk-container {\n",
       "  /* jupyter's `normalize.less` sets `[hidden] { display: none; }`\n",
       "     but bootstrap.min.css set `[hidden] { display: none !important; }`\n",
       "     so we also need the `!important` here to be able to override the\n",
       "     default hidden behavior on the sphinx rendered scikit-learn.org.\n",
       "     See: https://github.com/scikit-learn/scikit-learn/issues/21755 */\n",
       "  display: inline-block !important;\n",
       "  position: relative;\n",
       "}\n",
       "\n",
       "#sk-container-id-1 div.sk-text-repr-fallback {\n",
       "  display: none;\n",
       "}\n",
       "\n",
       "div.sk-parallel-item,\n",
       "div.sk-serial,\n",
       "div.sk-item {\n",
       "  /* draw centered vertical line to link estimators */\n",
       "  background-image: linear-gradient(var(--sklearn-color-text-on-default-background), var(--sklearn-color-text-on-default-background));\n",
       "  background-size: 2px 100%;\n",
       "  background-repeat: no-repeat;\n",
       "  background-position: center center;\n",
       "}\n",
       "\n",
       "/* Parallel-specific style estimator block */\n",
       "\n",
       "#sk-container-id-1 div.sk-parallel-item::after {\n",
       "  content: \"\";\n",
       "  width: 100%;\n",
       "  border-bottom: 2px solid var(--sklearn-color-text-on-default-background);\n",
       "  flex-grow: 1;\n",
       "}\n",
       "\n",
       "#sk-container-id-1 div.sk-parallel {\n",
       "  display: flex;\n",
       "  align-items: stretch;\n",
       "  justify-content: center;\n",
       "  background-color: var(--sklearn-color-background);\n",
       "  position: relative;\n",
       "}\n",
       "\n",
       "#sk-container-id-1 div.sk-parallel-item {\n",
       "  display: flex;\n",
       "  flex-direction: column;\n",
       "}\n",
       "\n",
       "#sk-container-id-1 div.sk-parallel-item:first-child::after {\n",
       "  align-self: flex-end;\n",
       "  width: 50%;\n",
       "}\n",
       "\n",
       "#sk-container-id-1 div.sk-parallel-item:last-child::after {\n",
       "  align-self: flex-start;\n",
       "  width: 50%;\n",
       "}\n",
       "\n",
       "#sk-container-id-1 div.sk-parallel-item:only-child::after {\n",
       "  width: 0;\n",
       "}\n",
       "\n",
       "/* Serial-specific style estimator block */\n",
       "\n",
       "#sk-container-id-1 div.sk-serial {\n",
       "  display: flex;\n",
       "  flex-direction: column;\n",
       "  align-items: center;\n",
       "  background-color: var(--sklearn-color-background);\n",
       "  padding-right: 1em;\n",
       "  padding-left: 1em;\n",
       "}\n",
       "\n",
       "\n",
       "/* Toggleable style: style used for estimator/Pipeline/ColumnTransformer box that is\n",
       "clickable and can be expanded/collapsed.\n",
       "- Pipeline and ColumnTransformer use this feature and define the default style\n",
       "- Estimators will overwrite some part of the style using the `sk-estimator` class\n",
       "*/\n",
       "\n",
       "/* Pipeline and ColumnTransformer style (default) */\n",
       "\n",
       "#sk-container-id-1 div.sk-toggleable {\n",
       "  /* Default theme specific background. It is overwritten whether we have a\n",
       "  specific estimator or a Pipeline/ColumnTransformer */\n",
       "  background-color: var(--sklearn-color-background);\n",
       "}\n",
       "\n",
       "/* Toggleable label */\n",
       "#sk-container-id-1 label.sk-toggleable__label {\n",
       "  cursor: pointer;\n",
       "  display: block;\n",
       "  width: 100%;\n",
       "  margin-bottom: 0;\n",
       "  padding: 0.5em;\n",
       "  box-sizing: border-box;\n",
       "  text-align: center;\n",
       "}\n",
       "\n",
       "#sk-container-id-1 label.sk-toggleable__label-arrow:before {\n",
       "  /* Arrow on the left of the label */\n",
       "  content: \"▸\";\n",
       "  float: left;\n",
       "  margin-right: 0.25em;\n",
       "  color: var(--sklearn-color-icon);\n",
       "}\n",
       "\n",
       "#sk-container-id-1 label.sk-toggleable__label-arrow:hover:before {\n",
       "  color: var(--sklearn-color-text);\n",
       "}\n",
       "\n",
       "/* Toggleable content - dropdown */\n",
       "\n",
       "#sk-container-id-1 div.sk-toggleable__content {\n",
       "  max-height: 0;\n",
       "  max-width: 0;\n",
       "  overflow: hidden;\n",
       "  text-align: left;\n",
       "  /* unfitted */\n",
       "  background-color: var(--sklearn-color-unfitted-level-0);\n",
       "}\n",
       "\n",
       "#sk-container-id-1 div.sk-toggleable__content.fitted {\n",
       "  /* fitted */\n",
       "  background-color: var(--sklearn-color-fitted-level-0);\n",
       "}\n",
       "\n",
       "#sk-container-id-1 div.sk-toggleable__content pre {\n",
       "  margin: 0.2em;\n",
       "  border-radius: 0.25em;\n",
       "  color: var(--sklearn-color-text);\n",
       "  /* unfitted */\n",
       "  background-color: var(--sklearn-color-unfitted-level-0);\n",
       "}\n",
       "\n",
       "#sk-container-id-1 div.sk-toggleable__content.fitted pre {\n",
       "  /* unfitted */\n",
       "  background-color: var(--sklearn-color-fitted-level-0);\n",
       "}\n",
       "\n",
       "#sk-container-id-1 input.sk-toggleable__control:checked~div.sk-toggleable__content {\n",
       "  /* Expand drop-down */\n",
       "  max-height: 200px;\n",
       "  max-width: 100%;\n",
       "  overflow: auto;\n",
       "}\n",
       "\n",
       "#sk-container-id-1 input.sk-toggleable__control:checked~label.sk-toggleable__label-arrow:before {\n",
       "  content: \"▾\";\n",
       "}\n",
       "\n",
       "/* Pipeline/ColumnTransformer-specific style */\n",
       "\n",
       "#sk-container-id-1 div.sk-label input.sk-toggleable__control:checked~label.sk-toggleable__label {\n",
       "  color: var(--sklearn-color-text);\n",
       "  background-color: var(--sklearn-color-unfitted-level-2);\n",
       "}\n",
       "\n",
       "#sk-container-id-1 div.sk-label.fitted input.sk-toggleable__control:checked~label.sk-toggleable__label {\n",
       "  background-color: var(--sklearn-color-fitted-level-2);\n",
       "}\n",
       "\n",
       "/* Estimator-specific style */\n",
       "\n",
       "/* Colorize estimator box */\n",
       "#sk-container-id-1 div.sk-estimator input.sk-toggleable__control:checked~label.sk-toggleable__label {\n",
       "  /* unfitted */\n",
       "  background-color: var(--sklearn-color-unfitted-level-2);\n",
       "}\n",
       "\n",
       "#sk-container-id-1 div.sk-estimator.fitted input.sk-toggleable__control:checked~label.sk-toggleable__label {\n",
       "  /* fitted */\n",
       "  background-color: var(--sklearn-color-fitted-level-2);\n",
       "}\n",
       "\n",
       "#sk-container-id-1 div.sk-label label.sk-toggleable__label,\n",
       "#sk-container-id-1 div.sk-label label {\n",
       "  /* The background is the default theme color */\n",
       "  color: var(--sklearn-color-text-on-default-background);\n",
       "}\n",
       "\n",
       "/* On hover, darken the color of the background */\n",
       "#sk-container-id-1 div.sk-label:hover label.sk-toggleable__label {\n",
       "  color: var(--sklearn-color-text);\n",
       "  background-color: var(--sklearn-color-unfitted-level-2);\n",
       "}\n",
       "\n",
       "/* Label box, darken color on hover, fitted */\n",
       "#sk-container-id-1 div.sk-label.fitted:hover label.sk-toggleable__label.fitted {\n",
       "  color: var(--sklearn-color-text);\n",
       "  background-color: var(--sklearn-color-fitted-level-2);\n",
       "}\n",
       "\n",
       "/* Estimator label */\n",
       "\n",
       "#sk-container-id-1 div.sk-label label {\n",
       "  font-family: monospace;\n",
       "  font-weight: bold;\n",
       "  display: inline-block;\n",
       "  line-height: 1.2em;\n",
       "}\n",
       "\n",
       "#sk-container-id-1 div.sk-label-container {\n",
       "  text-align: center;\n",
       "}\n",
       "\n",
       "/* Estimator-specific */\n",
       "#sk-container-id-1 div.sk-estimator {\n",
       "  font-family: monospace;\n",
       "  border: 1px dotted var(--sklearn-color-border-box);\n",
       "  border-radius: 0.25em;\n",
       "  box-sizing: border-box;\n",
       "  margin-bottom: 0.5em;\n",
       "  /* unfitted */\n",
       "  background-color: var(--sklearn-color-unfitted-level-0);\n",
       "}\n",
       "\n",
       "#sk-container-id-1 div.sk-estimator.fitted {\n",
       "  /* fitted */\n",
       "  background-color: var(--sklearn-color-fitted-level-0);\n",
       "}\n",
       "\n",
       "/* on hover */\n",
       "#sk-container-id-1 div.sk-estimator:hover {\n",
       "  /* unfitted */\n",
       "  background-color: var(--sklearn-color-unfitted-level-2);\n",
       "}\n",
       "\n",
       "#sk-container-id-1 div.sk-estimator.fitted:hover {\n",
       "  /* fitted */\n",
       "  background-color: var(--sklearn-color-fitted-level-2);\n",
       "}\n",
       "\n",
       "/* Specification for estimator info (e.g. \"i\" and \"?\") */\n",
       "\n",
       "/* Common style for \"i\" and \"?\" */\n",
       "\n",
       ".sk-estimator-doc-link,\n",
       "a:link.sk-estimator-doc-link,\n",
       "a:visited.sk-estimator-doc-link {\n",
       "  float: right;\n",
       "  font-size: smaller;\n",
       "  line-height: 1em;\n",
       "  font-family: monospace;\n",
       "  background-color: var(--sklearn-color-background);\n",
       "  border-radius: 1em;\n",
       "  height: 1em;\n",
       "  width: 1em;\n",
       "  text-decoration: none !important;\n",
       "  margin-left: 1ex;\n",
       "  /* unfitted */\n",
       "  border: var(--sklearn-color-unfitted-level-1) 1pt solid;\n",
       "  color: var(--sklearn-color-unfitted-level-1);\n",
       "}\n",
       "\n",
       ".sk-estimator-doc-link.fitted,\n",
       "a:link.sk-estimator-doc-link.fitted,\n",
       "a:visited.sk-estimator-doc-link.fitted {\n",
       "  /* fitted */\n",
       "  border: var(--sklearn-color-fitted-level-1) 1pt solid;\n",
       "  color: var(--sklearn-color-fitted-level-1);\n",
       "}\n",
       "\n",
       "/* On hover */\n",
       "div.sk-estimator:hover .sk-estimator-doc-link:hover,\n",
       ".sk-estimator-doc-link:hover,\n",
       "div.sk-label-container:hover .sk-estimator-doc-link:hover,\n",
       ".sk-estimator-doc-link:hover {\n",
       "  /* unfitted */\n",
       "  background-color: var(--sklearn-color-unfitted-level-3);\n",
       "  color: var(--sklearn-color-background);\n",
       "  text-decoration: none;\n",
       "}\n",
       "\n",
       "div.sk-estimator.fitted:hover .sk-estimator-doc-link.fitted:hover,\n",
       ".sk-estimator-doc-link.fitted:hover,\n",
       "div.sk-label-container:hover .sk-estimator-doc-link.fitted:hover,\n",
       ".sk-estimator-doc-link.fitted:hover {\n",
       "  /* fitted */\n",
       "  background-color: var(--sklearn-color-fitted-level-3);\n",
       "  color: var(--sklearn-color-background);\n",
       "  text-decoration: none;\n",
       "}\n",
       "\n",
       "/* Span, style for the box shown on hovering the info icon */\n",
       ".sk-estimator-doc-link span {\n",
       "  display: none;\n",
       "  z-index: 9999;\n",
       "  position: relative;\n",
       "  font-weight: normal;\n",
       "  right: .2ex;\n",
       "  padding: .5ex;\n",
       "  margin: .5ex;\n",
       "  width: min-content;\n",
       "  min-width: 20ex;\n",
       "  max-width: 50ex;\n",
       "  color: var(--sklearn-color-text);\n",
       "  box-shadow: 2pt 2pt 4pt #999;\n",
       "  /* unfitted */\n",
       "  background: var(--sklearn-color-unfitted-level-0);\n",
       "  border: .5pt solid var(--sklearn-color-unfitted-level-3);\n",
       "}\n",
       "\n",
       ".sk-estimator-doc-link.fitted span {\n",
       "  /* fitted */\n",
       "  background: var(--sklearn-color-fitted-level-0);\n",
       "  border: var(--sklearn-color-fitted-level-3);\n",
       "}\n",
       "\n",
       ".sk-estimator-doc-link:hover span {\n",
       "  display: block;\n",
       "}\n",
       "\n",
       "/* \"?\"-specific style due to the `<a>` HTML tag */\n",
       "\n",
       "#sk-container-id-1 a.estimator_doc_link {\n",
       "  float: right;\n",
       "  font-size: 1rem;\n",
       "  line-height: 1em;\n",
       "  font-family: monospace;\n",
       "  background-color: var(--sklearn-color-background);\n",
       "  border-radius: 1rem;\n",
       "  height: 1rem;\n",
       "  width: 1rem;\n",
       "  text-decoration: none;\n",
       "  /* unfitted */\n",
       "  color: var(--sklearn-color-unfitted-level-1);\n",
       "  border: var(--sklearn-color-unfitted-level-1) 1pt solid;\n",
       "}\n",
       "\n",
       "#sk-container-id-1 a.estimator_doc_link.fitted {\n",
       "  /* fitted */\n",
       "  border: var(--sklearn-color-fitted-level-1) 1pt solid;\n",
       "  color: var(--sklearn-color-fitted-level-1);\n",
       "}\n",
       "\n",
       "/* On hover */\n",
       "#sk-container-id-1 a.estimator_doc_link:hover {\n",
       "  /* unfitted */\n",
       "  background-color: var(--sklearn-color-unfitted-level-3);\n",
       "  color: var(--sklearn-color-background);\n",
       "  text-decoration: none;\n",
       "}\n",
       "\n",
       "#sk-container-id-1 a.estimator_doc_link.fitted:hover {\n",
       "  /* fitted */\n",
       "  background-color: var(--sklearn-color-fitted-level-3);\n",
       "}\n",
       "</style><div id=\"sk-container-id-1\" class=\"sk-top-container\"><div class=\"sk-text-repr-fallback\"><pre>OneHotEncoder(drop=&#x27;first&#x27;, sparse_output=False)</pre><b>In a Jupyter environment, please rerun this cell to show the HTML representation or trust the notebook. <br />On GitHub, the HTML representation is unable to render, please try loading this page with nbviewer.org.</b></div><div class=\"sk-container\" hidden><div class=\"sk-item\"><div class=\"sk-estimator fitted sk-toggleable\"><input class=\"sk-toggleable__control sk-hidden--visually\" id=\"sk-estimator-id-1\" type=\"checkbox\" checked><label for=\"sk-estimator-id-1\" class=\"sk-toggleable__label fitted sk-toggleable__label-arrow fitted\">&nbsp;&nbsp;OneHotEncoder<a class=\"sk-estimator-doc-link fitted\" rel=\"noreferrer\" target=\"_blank\" href=\"https://scikit-learn.org/1.5/modules/generated/sklearn.preprocessing.OneHotEncoder.html\">?<span>Documentation for OneHotEncoder</span></a><span class=\"sk-estimator-doc-link fitted\">i<span>Fitted</span></span></label><div class=\"sk-toggleable__content fitted\"><pre>OneHotEncoder(drop=&#x27;first&#x27;, sparse_output=False)</pre></div> </div></div></div></div>"
      ],
      "text/plain": [
       "OneHotEncoder(drop='first', sparse_output=False)"
      ]
     },
     "execution_count": 9,
     "metadata": {},
     "output_type": "execute_result"
    }
   ],
   "source": [
    "#fit OHE categorical columns for X_train\n",
    "encoder.fit(X_train[['division','level of education']])"
   ]
  },
  {
   "cell_type": "code",
   "execution_count": 10,
   "metadata": {},
   "outputs": [
    {
     "data": {
      "text/html": [
       "<style>#sk-container-id-2 {\n",
       "  /* Definition of color scheme common for light and dark mode */\n",
       "  --sklearn-color-text: black;\n",
       "  --sklearn-color-line: gray;\n",
       "  /* Definition of color scheme for unfitted estimators */\n",
       "  --sklearn-color-unfitted-level-0: #fff5e6;\n",
       "  --sklearn-color-unfitted-level-1: #f6e4d2;\n",
       "  --sklearn-color-unfitted-level-2: #ffe0b3;\n",
       "  --sklearn-color-unfitted-level-3: chocolate;\n",
       "  /* Definition of color scheme for fitted estimators */\n",
       "  --sklearn-color-fitted-level-0: #f0f8ff;\n",
       "  --sklearn-color-fitted-level-1: #d4ebff;\n",
       "  --sklearn-color-fitted-level-2: #b3dbfd;\n",
       "  --sklearn-color-fitted-level-3: cornflowerblue;\n",
       "\n",
       "  /* Specific color for light theme */\n",
       "  --sklearn-color-text-on-default-background: var(--sg-text-color, var(--theme-code-foreground, var(--jp-content-font-color1, black)));\n",
       "  --sklearn-color-background: var(--sg-background-color, var(--theme-background, var(--jp-layout-color0, white)));\n",
       "  --sklearn-color-border-box: var(--sg-text-color, var(--theme-code-foreground, var(--jp-content-font-color1, black)));\n",
       "  --sklearn-color-icon: #696969;\n",
       "\n",
       "  @media (prefers-color-scheme: dark) {\n",
       "    /* Redefinition of color scheme for dark theme */\n",
       "    --sklearn-color-text-on-default-background: var(--sg-text-color, var(--theme-code-foreground, var(--jp-content-font-color1, white)));\n",
       "    --sklearn-color-background: var(--sg-background-color, var(--theme-background, var(--jp-layout-color0, #111)));\n",
       "    --sklearn-color-border-box: var(--sg-text-color, var(--theme-code-foreground, var(--jp-content-font-color1, white)));\n",
       "    --sklearn-color-icon: #878787;\n",
       "  }\n",
       "}\n",
       "\n",
       "#sk-container-id-2 {\n",
       "  color: var(--sklearn-color-text);\n",
       "}\n",
       "\n",
       "#sk-container-id-2 pre {\n",
       "  padding: 0;\n",
       "}\n",
       "\n",
       "#sk-container-id-2 input.sk-hidden--visually {\n",
       "  border: 0;\n",
       "  clip: rect(1px 1px 1px 1px);\n",
       "  clip: rect(1px, 1px, 1px, 1px);\n",
       "  height: 1px;\n",
       "  margin: -1px;\n",
       "  overflow: hidden;\n",
       "  padding: 0;\n",
       "  position: absolute;\n",
       "  width: 1px;\n",
       "}\n",
       "\n",
       "#sk-container-id-2 div.sk-dashed-wrapped {\n",
       "  border: 1px dashed var(--sklearn-color-line);\n",
       "  margin: 0 0.4em 0.5em 0.4em;\n",
       "  box-sizing: border-box;\n",
       "  padding-bottom: 0.4em;\n",
       "  background-color: var(--sklearn-color-background);\n",
       "}\n",
       "\n",
       "#sk-container-id-2 div.sk-container {\n",
       "  /* jupyter's `normalize.less` sets `[hidden] { display: none; }`\n",
       "     but bootstrap.min.css set `[hidden] { display: none !important; }`\n",
       "     so we also need the `!important` here to be able to override the\n",
       "     default hidden behavior on the sphinx rendered scikit-learn.org.\n",
       "     See: https://github.com/scikit-learn/scikit-learn/issues/21755 */\n",
       "  display: inline-block !important;\n",
       "  position: relative;\n",
       "}\n",
       "\n",
       "#sk-container-id-2 div.sk-text-repr-fallback {\n",
       "  display: none;\n",
       "}\n",
       "\n",
       "div.sk-parallel-item,\n",
       "div.sk-serial,\n",
       "div.sk-item {\n",
       "  /* draw centered vertical line to link estimators */\n",
       "  background-image: linear-gradient(var(--sklearn-color-text-on-default-background), var(--sklearn-color-text-on-default-background));\n",
       "  background-size: 2px 100%;\n",
       "  background-repeat: no-repeat;\n",
       "  background-position: center center;\n",
       "}\n",
       "\n",
       "/* Parallel-specific style estimator block */\n",
       "\n",
       "#sk-container-id-2 div.sk-parallel-item::after {\n",
       "  content: \"\";\n",
       "  width: 100%;\n",
       "  border-bottom: 2px solid var(--sklearn-color-text-on-default-background);\n",
       "  flex-grow: 1;\n",
       "}\n",
       "\n",
       "#sk-container-id-2 div.sk-parallel {\n",
       "  display: flex;\n",
       "  align-items: stretch;\n",
       "  justify-content: center;\n",
       "  background-color: var(--sklearn-color-background);\n",
       "  position: relative;\n",
       "}\n",
       "\n",
       "#sk-container-id-2 div.sk-parallel-item {\n",
       "  display: flex;\n",
       "  flex-direction: column;\n",
       "}\n",
       "\n",
       "#sk-container-id-2 div.sk-parallel-item:first-child::after {\n",
       "  align-self: flex-end;\n",
       "  width: 50%;\n",
       "}\n",
       "\n",
       "#sk-container-id-2 div.sk-parallel-item:last-child::after {\n",
       "  align-self: flex-start;\n",
       "  width: 50%;\n",
       "}\n",
       "\n",
       "#sk-container-id-2 div.sk-parallel-item:only-child::after {\n",
       "  width: 0;\n",
       "}\n",
       "\n",
       "/* Serial-specific style estimator block */\n",
       "\n",
       "#sk-container-id-2 div.sk-serial {\n",
       "  display: flex;\n",
       "  flex-direction: column;\n",
       "  align-items: center;\n",
       "  background-color: var(--sklearn-color-background);\n",
       "  padding-right: 1em;\n",
       "  padding-left: 1em;\n",
       "}\n",
       "\n",
       "\n",
       "/* Toggleable style: style used for estimator/Pipeline/ColumnTransformer box that is\n",
       "clickable and can be expanded/collapsed.\n",
       "- Pipeline and ColumnTransformer use this feature and define the default style\n",
       "- Estimators will overwrite some part of the style using the `sk-estimator` class\n",
       "*/\n",
       "\n",
       "/* Pipeline and ColumnTransformer style (default) */\n",
       "\n",
       "#sk-container-id-2 div.sk-toggleable {\n",
       "  /* Default theme specific background. It is overwritten whether we have a\n",
       "  specific estimator or a Pipeline/ColumnTransformer */\n",
       "  background-color: var(--sklearn-color-background);\n",
       "}\n",
       "\n",
       "/* Toggleable label */\n",
       "#sk-container-id-2 label.sk-toggleable__label {\n",
       "  cursor: pointer;\n",
       "  display: block;\n",
       "  width: 100%;\n",
       "  margin-bottom: 0;\n",
       "  padding: 0.5em;\n",
       "  box-sizing: border-box;\n",
       "  text-align: center;\n",
       "}\n",
       "\n",
       "#sk-container-id-2 label.sk-toggleable__label-arrow:before {\n",
       "  /* Arrow on the left of the label */\n",
       "  content: \"▸\";\n",
       "  float: left;\n",
       "  margin-right: 0.25em;\n",
       "  color: var(--sklearn-color-icon);\n",
       "}\n",
       "\n",
       "#sk-container-id-2 label.sk-toggleable__label-arrow:hover:before {\n",
       "  color: var(--sklearn-color-text);\n",
       "}\n",
       "\n",
       "/* Toggleable content - dropdown */\n",
       "\n",
       "#sk-container-id-2 div.sk-toggleable__content {\n",
       "  max-height: 0;\n",
       "  max-width: 0;\n",
       "  overflow: hidden;\n",
       "  text-align: left;\n",
       "  /* unfitted */\n",
       "  background-color: var(--sklearn-color-unfitted-level-0);\n",
       "}\n",
       "\n",
       "#sk-container-id-2 div.sk-toggleable__content.fitted {\n",
       "  /* fitted */\n",
       "  background-color: var(--sklearn-color-fitted-level-0);\n",
       "}\n",
       "\n",
       "#sk-container-id-2 div.sk-toggleable__content pre {\n",
       "  margin: 0.2em;\n",
       "  border-radius: 0.25em;\n",
       "  color: var(--sklearn-color-text);\n",
       "  /* unfitted */\n",
       "  background-color: var(--sklearn-color-unfitted-level-0);\n",
       "}\n",
       "\n",
       "#sk-container-id-2 div.sk-toggleable__content.fitted pre {\n",
       "  /* unfitted */\n",
       "  background-color: var(--sklearn-color-fitted-level-0);\n",
       "}\n",
       "\n",
       "#sk-container-id-2 input.sk-toggleable__control:checked~div.sk-toggleable__content {\n",
       "  /* Expand drop-down */\n",
       "  max-height: 200px;\n",
       "  max-width: 100%;\n",
       "  overflow: auto;\n",
       "}\n",
       "\n",
       "#sk-container-id-2 input.sk-toggleable__control:checked~label.sk-toggleable__label-arrow:before {\n",
       "  content: \"▾\";\n",
       "}\n",
       "\n",
       "/* Pipeline/ColumnTransformer-specific style */\n",
       "\n",
       "#sk-container-id-2 div.sk-label input.sk-toggleable__control:checked~label.sk-toggleable__label {\n",
       "  color: var(--sklearn-color-text);\n",
       "  background-color: var(--sklearn-color-unfitted-level-2);\n",
       "}\n",
       "\n",
       "#sk-container-id-2 div.sk-label.fitted input.sk-toggleable__control:checked~label.sk-toggleable__label {\n",
       "  background-color: var(--sklearn-color-fitted-level-2);\n",
       "}\n",
       "\n",
       "/* Estimator-specific style */\n",
       "\n",
       "/* Colorize estimator box */\n",
       "#sk-container-id-2 div.sk-estimator input.sk-toggleable__control:checked~label.sk-toggleable__label {\n",
       "  /* unfitted */\n",
       "  background-color: var(--sklearn-color-unfitted-level-2);\n",
       "}\n",
       "\n",
       "#sk-container-id-2 div.sk-estimator.fitted input.sk-toggleable__control:checked~label.sk-toggleable__label {\n",
       "  /* fitted */\n",
       "  background-color: var(--sklearn-color-fitted-level-2);\n",
       "}\n",
       "\n",
       "#sk-container-id-2 div.sk-label label.sk-toggleable__label,\n",
       "#sk-container-id-2 div.sk-label label {\n",
       "  /* The background is the default theme color */\n",
       "  color: var(--sklearn-color-text-on-default-background);\n",
       "}\n",
       "\n",
       "/* On hover, darken the color of the background */\n",
       "#sk-container-id-2 div.sk-label:hover label.sk-toggleable__label {\n",
       "  color: var(--sklearn-color-text);\n",
       "  background-color: var(--sklearn-color-unfitted-level-2);\n",
       "}\n",
       "\n",
       "/* Label box, darken color on hover, fitted */\n",
       "#sk-container-id-2 div.sk-label.fitted:hover label.sk-toggleable__label.fitted {\n",
       "  color: var(--sklearn-color-text);\n",
       "  background-color: var(--sklearn-color-fitted-level-2);\n",
       "}\n",
       "\n",
       "/* Estimator label */\n",
       "\n",
       "#sk-container-id-2 div.sk-label label {\n",
       "  font-family: monospace;\n",
       "  font-weight: bold;\n",
       "  display: inline-block;\n",
       "  line-height: 1.2em;\n",
       "}\n",
       "\n",
       "#sk-container-id-2 div.sk-label-container {\n",
       "  text-align: center;\n",
       "}\n",
       "\n",
       "/* Estimator-specific */\n",
       "#sk-container-id-2 div.sk-estimator {\n",
       "  font-family: monospace;\n",
       "  border: 1px dotted var(--sklearn-color-border-box);\n",
       "  border-radius: 0.25em;\n",
       "  box-sizing: border-box;\n",
       "  margin-bottom: 0.5em;\n",
       "  /* unfitted */\n",
       "  background-color: var(--sklearn-color-unfitted-level-0);\n",
       "}\n",
       "\n",
       "#sk-container-id-2 div.sk-estimator.fitted {\n",
       "  /* fitted */\n",
       "  background-color: var(--sklearn-color-fitted-level-0);\n",
       "}\n",
       "\n",
       "/* on hover */\n",
       "#sk-container-id-2 div.sk-estimator:hover {\n",
       "  /* unfitted */\n",
       "  background-color: var(--sklearn-color-unfitted-level-2);\n",
       "}\n",
       "\n",
       "#sk-container-id-2 div.sk-estimator.fitted:hover {\n",
       "  /* fitted */\n",
       "  background-color: var(--sklearn-color-fitted-level-2);\n",
       "}\n",
       "\n",
       "/* Specification for estimator info (e.g. \"i\" and \"?\") */\n",
       "\n",
       "/* Common style for \"i\" and \"?\" */\n",
       "\n",
       ".sk-estimator-doc-link,\n",
       "a:link.sk-estimator-doc-link,\n",
       "a:visited.sk-estimator-doc-link {\n",
       "  float: right;\n",
       "  font-size: smaller;\n",
       "  line-height: 1em;\n",
       "  font-family: monospace;\n",
       "  background-color: var(--sklearn-color-background);\n",
       "  border-radius: 1em;\n",
       "  height: 1em;\n",
       "  width: 1em;\n",
       "  text-decoration: none !important;\n",
       "  margin-left: 1ex;\n",
       "  /* unfitted */\n",
       "  border: var(--sklearn-color-unfitted-level-1) 1pt solid;\n",
       "  color: var(--sklearn-color-unfitted-level-1);\n",
       "}\n",
       "\n",
       ".sk-estimator-doc-link.fitted,\n",
       "a:link.sk-estimator-doc-link.fitted,\n",
       "a:visited.sk-estimator-doc-link.fitted {\n",
       "  /* fitted */\n",
       "  border: var(--sklearn-color-fitted-level-1) 1pt solid;\n",
       "  color: var(--sklearn-color-fitted-level-1);\n",
       "}\n",
       "\n",
       "/* On hover */\n",
       "div.sk-estimator:hover .sk-estimator-doc-link:hover,\n",
       ".sk-estimator-doc-link:hover,\n",
       "div.sk-label-container:hover .sk-estimator-doc-link:hover,\n",
       ".sk-estimator-doc-link:hover {\n",
       "  /* unfitted */\n",
       "  background-color: var(--sklearn-color-unfitted-level-3);\n",
       "  color: var(--sklearn-color-background);\n",
       "  text-decoration: none;\n",
       "}\n",
       "\n",
       "div.sk-estimator.fitted:hover .sk-estimator-doc-link.fitted:hover,\n",
       ".sk-estimator-doc-link.fitted:hover,\n",
       "div.sk-label-container:hover .sk-estimator-doc-link.fitted:hover,\n",
       ".sk-estimator-doc-link.fitted:hover {\n",
       "  /* fitted */\n",
       "  background-color: var(--sklearn-color-fitted-level-3);\n",
       "  color: var(--sklearn-color-background);\n",
       "  text-decoration: none;\n",
       "}\n",
       "\n",
       "/* Span, style for the box shown on hovering the info icon */\n",
       ".sk-estimator-doc-link span {\n",
       "  display: none;\n",
       "  z-index: 9999;\n",
       "  position: relative;\n",
       "  font-weight: normal;\n",
       "  right: .2ex;\n",
       "  padding: .5ex;\n",
       "  margin: .5ex;\n",
       "  width: min-content;\n",
       "  min-width: 20ex;\n",
       "  max-width: 50ex;\n",
       "  color: var(--sklearn-color-text);\n",
       "  box-shadow: 2pt 2pt 4pt #999;\n",
       "  /* unfitted */\n",
       "  background: var(--sklearn-color-unfitted-level-0);\n",
       "  border: .5pt solid var(--sklearn-color-unfitted-level-3);\n",
       "}\n",
       "\n",
       ".sk-estimator-doc-link.fitted span {\n",
       "  /* fitted */\n",
       "  background: var(--sklearn-color-fitted-level-0);\n",
       "  border: var(--sklearn-color-fitted-level-3);\n",
       "}\n",
       "\n",
       ".sk-estimator-doc-link:hover span {\n",
       "  display: block;\n",
       "}\n",
       "\n",
       "/* \"?\"-specific style due to the `<a>` HTML tag */\n",
       "\n",
       "#sk-container-id-2 a.estimator_doc_link {\n",
       "  float: right;\n",
       "  font-size: 1rem;\n",
       "  line-height: 1em;\n",
       "  font-family: monospace;\n",
       "  background-color: var(--sklearn-color-background);\n",
       "  border-radius: 1rem;\n",
       "  height: 1rem;\n",
       "  width: 1rem;\n",
       "  text-decoration: none;\n",
       "  /* unfitted */\n",
       "  color: var(--sklearn-color-unfitted-level-1);\n",
       "  border: var(--sklearn-color-unfitted-level-1) 1pt solid;\n",
       "}\n",
       "\n",
       "#sk-container-id-2 a.estimator_doc_link.fitted {\n",
       "  /* fitted */\n",
       "  border: var(--sklearn-color-fitted-level-1) 1pt solid;\n",
       "  color: var(--sklearn-color-fitted-level-1);\n",
       "}\n",
       "\n",
       "/* On hover */\n",
       "#sk-container-id-2 a.estimator_doc_link:hover {\n",
       "  /* unfitted */\n",
       "  background-color: var(--sklearn-color-unfitted-level-3);\n",
       "  color: var(--sklearn-color-background);\n",
       "  text-decoration: none;\n",
       "}\n",
       "\n",
       "#sk-container-id-2 a.estimator_doc_link.fitted:hover {\n",
       "  /* fitted */\n",
       "  background-color: var(--sklearn-color-fitted-level-3);\n",
       "}\n",
       "</style><div id=\"sk-container-id-2\" class=\"sk-top-container\"><div class=\"sk-text-repr-fallback\"><pre>StandardScaler()</pre><b>In a Jupyter environment, please rerun this cell to show the HTML representation or trust the notebook. <br />On GitHub, the HTML representation is unable to render, please try loading this page with nbviewer.org.</b></div><div class=\"sk-container\" hidden><div class=\"sk-item\"><div class=\"sk-estimator fitted sk-toggleable\"><input class=\"sk-toggleable__control sk-hidden--visually\" id=\"sk-estimator-id-2\" type=\"checkbox\" checked><label for=\"sk-estimator-id-2\" class=\"sk-toggleable__label fitted sk-toggleable__label-arrow fitted\">&nbsp;&nbsp;StandardScaler<a class=\"sk-estimator-doc-link fitted\" rel=\"noreferrer\" target=\"_blank\" href=\"https://scikit-learn.org/1.5/modules/generated/sklearn.preprocessing.StandardScaler.html\">?<span>Documentation for StandardScaler</span></a><span class=\"sk-estimator-doc-link fitted\">i<span>Fitted</span></span></label><div class=\"sk-toggleable__content fitted\"><pre>StandardScaler()</pre></div> </div></div></div></div>"
      ],
      "text/plain": [
       "StandardScaler()"
      ]
     },
     "execution_count": 10,
     "metadata": {},
     "output_type": "execute_result"
    }
   ],
   "source": [
    "#Scale numeric values column wise for X_train\n",
    "scaler.fit(X_train[['training level','work experience','salary']])"
   ]
  },
  {
   "cell_type": "code",
   "execution_count": 11,
   "metadata": {},
   "outputs": [],
   "source": [
    "#once you fit OHE encoder and scaler on X_train, use it to get transformed X_train vectors\n",
    "encoded_data_ohe=encoder.transform(X_train[['division','level of education']])"
   ]
  },
  {
   "cell_type": "code",
   "execution_count": 12,
   "metadata": {},
   "outputs": [
    {
     "data": {
      "text/plain": [
       "(670, 8)"
      ]
     },
     "execution_count": 12,
     "metadata": {},
     "output_type": "execute_result"
    }
   ],
   "source": [
    "encoded_data_ohe.shape"
   ]
  },
  {
   "cell_type": "code",
   "execution_count": 13,
   "metadata": {},
   "outputs": [],
   "source": [
    "X_train_numeric_scaled=scaler.transform(X_train[['training level','work experience','salary']])"
   ]
  },
  {
   "cell_type": "code",
   "execution_count": 14,
   "metadata": {},
   "outputs": [
    {
     "data": {
      "text/plain": [
       "(670, 3)"
      ]
     },
     "execution_count": 14,
     "metadata": {},
     "output_type": "execute_result"
    }
   ],
   "source": [
    "X_train_numeric_scaled.shape"
   ]
  },
  {
   "cell_type": "code",
   "execution_count": 15,
   "metadata": {},
   "outputs": [],
   "source": [
    "#to concatenate column-wise 2 numpy arrays\n",
    "X_train_transf=np.hstack((encoded_data_ohe,X_train_numeric_scaled))"
   ]
  },
  {
   "cell_type": "code",
   "execution_count": 16,
   "metadata": {},
   "outputs": [
    {
     "data": {
      "text/plain": [
       "(670, 11)"
      ]
     },
     "execution_count": 16,
     "metadata": {},
     "output_type": "execute_result"
    }
   ],
   "source": [
    "X_train_transf.shape\n"
   ]
  },
  {
   "cell_type": "code",
   "execution_count": 17,
   "metadata": {},
   "outputs": [],
   "source": [
    "# Now repeat same steps for X_Test, doing it separately for \n",
    "# it saves data leakage and pre-assumes nothing about Test data \n",
    "#for deployment you will get Test data separately\n",
    "encoded_data_ohe_test=encoder.transform(X_test[['division','level of education']])\n",
    "X_test_numeric_scaled=scaler.transform(X_test[['training level','work experience','salary']])\n",
    "X_test_transf=np.hstack((encoded_data_ohe_test,X_test_numeric_scaled))\n"
   ]
  },
  {
   "cell_type": "code",
   "execution_count": 18,
   "metadata": {},
   "outputs": [
    {
     "data": {
      "text/plain": [
       "(330, 11)"
      ]
     },
     "execution_count": 18,
     "metadata": {},
     "output_type": "execute_result"
    }
   ],
   "source": [
    "X_test_transf.shape"
   ]
  },
  {
   "cell_type": "code",
   "execution_count": 19,
   "metadata": {},
   "outputs": [],
   "source": [
    "from sklearn.neural_network import MLPRegressor"
   ]
  },
  {
   "cell_type": "code",
   "execution_count": 20,
   "metadata": {},
   "outputs": [],
   "source": [
    "#model=MLPRegressor(hidden_layer_sizes=(5,10),activation=\"relu\",solver='adam',learning_rate='adaptive',max_iter=1500,verbose=True)\n",
    "model = MLPRegressor(hidden_layer_sizes=(10, ), activation='relu', solver='lbfgs', alpha=0.01, max_iter=2500, random_state=42)"
   ]
  },
  {
   "cell_type": "code",
   "execution_count": 22,
   "metadata": {},
   "outputs": [],
   "source": [
    "# Define scoring metrics, by default CV tries to maximize scoring options\n",
    "#but when you want it to minimize it\n",
    "#you need to set flag greater_is_better as False\n",
    "scoring = {\n",
    "    'MAE': make_scorer(mean_absolute_error, greater_is_better=False),\n",
    "    'MSE': make_scorer(mean_squared_error, greater_is_better=False)\n",
    "}"
   ]
  },
  {
   "cell_type": "code",
   "execution_count": 23,
   "metadata": {},
   "outputs": [],
   "source": [
    "#perform 10 fold cross validatio to learn best model\n",
    "from sklearn.model_selection import cross_validate\n",
    "\n",
    "scores=cross_validate(model,X_train_transf,y_train,scoring=scoring,cv=10,return_estimator=True,return_train_score=True)"
   ]
  },
  {
   "cell_type": "code",
   "execution_count": 24,
   "metadata": {},
   "outputs": [
    {
     "data": {
      "text/plain": [
       "{'fit_time': array([0.23079276, 0.09694862, 0.1659832 , 0.18542743, 0.31541562,\n",
       "        0.23184347, 0.20200562, 0.20725822, 0.24376464, 0.21478701]),\n",
       " 'score_time': array([0.00090599, 0.00100279, 0.00100017, 0.0010035 , 0.00125527,\n",
       "        0.00150585, 0.00101757, 0.00101972, 0.00101805, 0.00100255]),\n",
       " 'estimator': [MLPRegressor(alpha=0.01, hidden_layer_sizes=(10,), max_iter=2500,\n",
       "               random_state=42, solver='lbfgs'),\n",
       "  MLPRegressor(alpha=0.01, hidden_layer_sizes=(10,), max_iter=2500,\n",
       "               random_state=42, solver='lbfgs'),\n",
       "  MLPRegressor(alpha=0.01, hidden_layer_sizes=(10,), max_iter=2500,\n",
       "               random_state=42, solver='lbfgs'),\n",
       "  MLPRegressor(alpha=0.01, hidden_layer_sizes=(10,), max_iter=2500,\n",
       "               random_state=42, solver='lbfgs'),\n",
       "  MLPRegressor(alpha=0.01, hidden_layer_sizes=(10,), max_iter=2500,\n",
       "               random_state=42, solver='lbfgs'),\n",
       "  MLPRegressor(alpha=0.01, hidden_layer_sizes=(10,), max_iter=2500,\n",
       "               random_state=42, solver='lbfgs'),\n",
       "  MLPRegressor(alpha=0.01, hidden_layer_sizes=(10,), max_iter=2500,\n",
       "               random_state=42, solver='lbfgs'),\n",
       "  MLPRegressor(alpha=0.01, hidden_layer_sizes=(10,), max_iter=2500,\n",
       "               random_state=42, solver='lbfgs'),\n",
       "  MLPRegressor(alpha=0.01, hidden_layer_sizes=(10,), max_iter=2500,\n",
       "               random_state=42, solver='lbfgs'),\n",
       "  MLPRegressor(alpha=0.01, hidden_layer_sizes=(10,), max_iter=2500,\n",
       "               random_state=42, solver='lbfgs')],\n",
       " 'test_MAE': array([-19577.6543613 , -21354.77827046, -20903.40195174, -20415.4084575 ,\n",
       "        -24169.38447909, -19206.93800374, -23169.70532389, -22006.50381962,\n",
       "        -18575.06469402, -24626.41523296]),\n",
       " 'train_MAE': array([-18284.43474515, -19147.22806362, -18915.70262345, -18219.50350921,\n",
       "        -18277.53249187, -19410.25085717, -18212.84492549, -18933.15913809,\n",
       "        -19151.63041651, -18432.29183134]),\n",
       " 'test_MSE': array([-6.07566746e+08, -7.64920676e+08, -7.54798682e+08, -7.04952943e+08,\n",
       "        -1.01562409e+09, -6.06950796e+08, -8.48732264e+08, -7.86299775e+08,\n",
       "        -5.46932115e+08, -9.72325403e+08]),\n",
       " 'train_MSE': array([-5.76146361e+08, -6.08298718e+08, -5.80444310e+08, -5.68625336e+08,\n",
       "        -5.64461388e+08, -6.25190336e+08, -5.51189809e+08, -5.96112653e+08,\n",
       "        -6.03501393e+08, -5.65117091e+08])}"
      ]
     },
     "execution_count": 24,
     "metadata": {},
     "output_type": "execute_result"
    }
   ],
   "source": [
    "scores"
   ]
  },
  {
   "cell_type": "code",
   "execution_count": 25,
   "metadata": {},
   "outputs": [],
   "source": [
    "scores_df=pd.DataFrame(scores)"
   ]
  },
  {
   "cell_type": "code",
   "execution_count": 26,
   "metadata": {},
   "outputs": [
    {
     "data": {
      "text/html": [
       "<div>\n",
       "<style scoped>\n",
       "    .dataframe tbody tr th:only-of-type {\n",
       "        vertical-align: middle;\n",
       "    }\n",
       "\n",
       "    .dataframe tbody tr th {\n",
       "        vertical-align: top;\n",
       "    }\n",
       "\n",
       "    .dataframe thead th {\n",
       "        text-align: right;\n",
       "    }\n",
       "</style>\n",
       "<table border=\"1\" class=\"dataframe\">\n",
       "  <thead>\n",
       "    <tr style=\"text-align: right;\">\n",
       "      <th></th>\n",
       "      <th>fit_time</th>\n",
       "      <th>score_time</th>\n",
       "      <th>estimator</th>\n",
       "      <th>test_MAE</th>\n",
       "      <th>train_MAE</th>\n",
       "      <th>test_MSE</th>\n",
       "      <th>train_MSE</th>\n",
       "    </tr>\n",
       "  </thead>\n",
       "  <tbody>\n",
       "    <tr>\n",
       "      <th>0</th>\n",
       "      <td>0.230793</td>\n",
       "      <td>0.000906</td>\n",
       "      <td>MLPRegressor(alpha=0.01, hidden_layer_sizes=(1...</td>\n",
       "      <td>-19577.654361</td>\n",
       "      <td>-18284.434745</td>\n",
       "      <td>-6.075667e+08</td>\n",
       "      <td>-5.761464e+08</td>\n",
       "    </tr>\n",
       "    <tr>\n",
       "      <th>1</th>\n",
       "      <td>0.096949</td>\n",
       "      <td>0.001003</td>\n",
       "      <td>MLPRegressor(alpha=0.01, hidden_layer_sizes=(1...</td>\n",
       "      <td>-21354.778270</td>\n",
       "      <td>-19147.228064</td>\n",
       "      <td>-7.649207e+08</td>\n",
       "      <td>-6.082987e+08</td>\n",
       "    </tr>\n",
       "    <tr>\n",
       "      <th>2</th>\n",
       "      <td>0.165983</td>\n",
       "      <td>0.001000</td>\n",
       "      <td>MLPRegressor(alpha=0.01, hidden_layer_sizes=(1...</td>\n",
       "      <td>-20903.401952</td>\n",
       "      <td>-18915.702623</td>\n",
       "      <td>-7.547987e+08</td>\n",
       "      <td>-5.804443e+08</td>\n",
       "    </tr>\n",
       "    <tr>\n",
       "      <th>3</th>\n",
       "      <td>0.185427</td>\n",
       "      <td>0.001004</td>\n",
       "      <td>MLPRegressor(alpha=0.01, hidden_layer_sizes=(1...</td>\n",
       "      <td>-20415.408458</td>\n",
       "      <td>-18219.503509</td>\n",
       "      <td>-7.049529e+08</td>\n",
       "      <td>-5.686253e+08</td>\n",
       "    </tr>\n",
       "    <tr>\n",
       "      <th>4</th>\n",
       "      <td>0.315416</td>\n",
       "      <td>0.001255</td>\n",
       "      <td>MLPRegressor(alpha=0.01, hidden_layer_sizes=(1...</td>\n",
       "      <td>-24169.384479</td>\n",
       "      <td>-18277.532492</td>\n",
       "      <td>-1.015624e+09</td>\n",
       "      <td>-5.644614e+08</td>\n",
       "    </tr>\n",
       "    <tr>\n",
       "      <th>5</th>\n",
       "      <td>0.231843</td>\n",
       "      <td>0.001506</td>\n",
       "      <td>MLPRegressor(alpha=0.01, hidden_layer_sizes=(1...</td>\n",
       "      <td>-19206.938004</td>\n",
       "      <td>-19410.250857</td>\n",
       "      <td>-6.069508e+08</td>\n",
       "      <td>-6.251903e+08</td>\n",
       "    </tr>\n",
       "    <tr>\n",
       "      <th>6</th>\n",
       "      <td>0.202006</td>\n",
       "      <td>0.001018</td>\n",
       "      <td>MLPRegressor(alpha=0.01, hidden_layer_sizes=(1...</td>\n",
       "      <td>-23169.705324</td>\n",
       "      <td>-18212.844925</td>\n",
       "      <td>-8.487323e+08</td>\n",
       "      <td>-5.511898e+08</td>\n",
       "    </tr>\n",
       "    <tr>\n",
       "      <th>7</th>\n",
       "      <td>0.207258</td>\n",
       "      <td>0.001020</td>\n",
       "      <td>MLPRegressor(alpha=0.01, hidden_layer_sizes=(1...</td>\n",
       "      <td>-22006.503820</td>\n",
       "      <td>-18933.159138</td>\n",
       "      <td>-7.862998e+08</td>\n",
       "      <td>-5.961127e+08</td>\n",
       "    </tr>\n",
       "    <tr>\n",
       "      <th>8</th>\n",
       "      <td>0.243765</td>\n",
       "      <td>0.001018</td>\n",
       "      <td>MLPRegressor(alpha=0.01, hidden_layer_sizes=(1...</td>\n",
       "      <td>-18575.064694</td>\n",
       "      <td>-19151.630417</td>\n",
       "      <td>-5.469321e+08</td>\n",
       "      <td>-6.035014e+08</td>\n",
       "    </tr>\n",
       "    <tr>\n",
       "      <th>9</th>\n",
       "      <td>0.214787</td>\n",
       "      <td>0.001003</td>\n",
       "      <td>MLPRegressor(alpha=0.01, hidden_layer_sizes=(1...</td>\n",
       "      <td>-24626.415233</td>\n",
       "      <td>-18432.291831</td>\n",
       "      <td>-9.723254e+08</td>\n",
       "      <td>-5.651171e+08</td>\n",
       "    </tr>\n",
       "  </tbody>\n",
       "</table>\n",
       "</div>"
      ],
      "text/plain": [
       "   fit_time  score_time                                          estimator  \\\n",
       "0  0.230793    0.000906  MLPRegressor(alpha=0.01, hidden_layer_sizes=(1...   \n",
       "1  0.096949    0.001003  MLPRegressor(alpha=0.01, hidden_layer_sizes=(1...   \n",
       "2  0.165983    0.001000  MLPRegressor(alpha=0.01, hidden_layer_sizes=(1...   \n",
       "3  0.185427    0.001004  MLPRegressor(alpha=0.01, hidden_layer_sizes=(1...   \n",
       "4  0.315416    0.001255  MLPRegressor(alpha=0.01, hidden_layer_sizes=(1...   \n",
       "5  0.231843    0.001506  MLPRegressor(alpha=0.01, hidden_layer_sizes=(1...   \n",
       "6  0.202006    0.001018  MLPRegressor(alpha=0.01, hidden_layer_sizes=(1...   \n",
       "7  0.207258    0.001020  MLPRegressor(alpha=0.01, hidden_layer_sizes=(1...   \n",
       "8  0.243765    0.001018  MLPRegressor(alpha=0.01, hidden_layer_sizes=(1...   \n",
       "9  0.214787    0.001003  MLPRegressor(alpha=0.01, hidden_layer_sizes=(1...   \n",
       "\n",
       "       test_MAE     train_MAE      test_MSE     train_MSE  \n",
       "0 -19577.654361 -18284.434745 -6.075667e+08 -5.761464e+08  \n",
       "1 -21354.778270 -19147.228064 -7.649207e+08 -6.082987e+08  \n",
       "2 -20903.401952 -18915.702623 -7.547987e+08 -5.804443e+08  \n",
       "3 -20415.408458 -18219.503509 -7.049529e+08 -5.686253e+08  \n",
       "4 -24169.384479 -18277.532492 -1.015624e+09 -5.644614e+08  \n",
       "5 -19206.938004 -19410.250857 -6.069508e+08 -6.251903e+08  \n",
       "6 -23169.705324 -18212.844925 -8.487323e+08 -5.511898e+08  \n",
       "7 -22006.503820 -18933.159138 -7.862998e+08 -5.961127e+08  \n",
       "8 -18575.064694 -19151.630417 -5.469321e+08 -6.035014e+08  \n",
       "9 -24626.415233 -18432.291831 -9.723254e+08 -5.651171e+08  "
      ]
     },
     "execution_count": 26,
     "metadata": {},
     "output_type": "execute_result"
    }
   ],
   "source": [
    "scores_df"
   ]
  },
  {
   "cell_type": "code",
   "execution_count": 27,
   "metadata": {},
   "outputs": [
    {
     "data": {
      "text/plain": [
       "-546932115.0769081"
      ]
     },
     "execution_count": 27,
     "metadata": {},
     "output_type": "execute_result"
    }
   ],
   "source": [
    "scores_df['test_MSE'].max()"
   ]
  },
  {
   "cell_type": "code",
   "execution_count": 28,
   "metadata": {},
   "outputs": [
    {
     "data": {
      "text/plain": [
       "-18575.064694018118"
      ]
     },
     "execution_count": 28,
     "metadata": {},
     "output_type": "execute_result"
    }
   ],
   "source": [
    "scores_df['test_MAE'].max()"
   ]
  },
  {
   "cell_type": "code",
   "execution_count": 29,
   "metadata": {},
   "outputs": [],
   "source": [
    "best_model_idx = scores_df['test_MSE'].idxmax()  "
   ]
  },
  {
   "cell_type": "code",
   "execution_count": 30,
   "metadata": {},
   "outputs": [
    {
     "data": {
      "text/plain": [
       "8"
      ]
     },
     "execution_count": 30,
     "metadata": {},
     "output_type": "execute_result"
    }
   ],
   "source": [
    "best_model_idx"
   ]
  },
  {
   "cell_type": "code",
   "execution_count": 31,
   "metadata": {},
   "outputs": [],
   "source": [
    "# now use this best model out of 10 fold cross validation to do prediction on Test data\n",
    "best_model=scores_df.iloc[8,2] #estimator column has index 2 in scores_df"
   ]
  },
  {
   "cell_type": "code",
   "execution_count": 32,
   "metadata": {},
   "outputs": [],
   "source": [
    "y_pred=best_model.predict(X_test_transf)"
   ]
  },
  {
   "cell_type": "code",
   "execution_count": 33,
   "metadata": {},
   "outputs": [
    {
     "data": {
      "text/plain": [
       "(330,)"
      ]
     },
     "execution_count": 33,
     "metadata": {},
     "output_type": "execute_result"
    }
   ],
   "source": [
    "y_pred.shape"
   ]
  },
  {
   "cell_type": "code",
   "execution_count": 34,
   "metadata": {},
   "outputs": [
    {
     "data": {
      "text/plain": [
       "array([460759.47204789, 379837.20234264, 176607.52421053, 392066.42591132,\n",
       "       324554.89380903, 451093.79186664, 337668.29555649, 406891.70589296,\n",
       "       279749.35652684, 174933.42513062, 345305.04014662, 402644.66746408,\n",
       "       475819.64188514, 303899.63579397, 278259.52552786, 443473.75374866,\n",
       "       344777.41240946, 359285.81357757, 552952.56853269, 177282.83227048,\n",
       "       516200.47546685, 558705.79359497, 539677.17878455, 397050.0710172 ,\n",
       "       250606.05952039, 225353.52139761, 410532.5186061 , 277729.89280213,\n",
       "       225029.38357653, 390355.25083436, 246496.28121742, 291847.38706765,\n",
       "       287204.16762142, 225485.28804938, 386303.9364116 , 257675.35245992,\n",
       "       256466.28374191, 353571.21516875, 435105.9071333 , 361760.92595037,\n",
       "       224356.25493657, 306935.69226644, 480519.03962084, 357967.49286459,\n",
       "       393268.93730738, 263115.70729654, 398759.96566449, 220906.02624391,\n",
       "       164478.9664752 , 245115.44028368, 459174.12753478, 554688.30738766,\n",
       "       324818.69909508, 340417.31120102, 375994.42429434, 327942.56987229,\n",
       "       298892.73531188, 276716.90322305, 501356.0925837 , 382650.33983057,\n",
       "       294885.77298694, 358983.11286529, 374151.03587453, 260650.07719556,\n",
       "       535702.7496911 , 369187.98406442, 360102.72756406, 448758.6556179 ,\n",
       "       371606.2629539 , 398263.50438548, 186980.24579215, 380849.46846061,\n",
       "       578987.47800182, 478559.42107798, 409979.19986485, 245791.41867578,\n",
       "       421749.88902643, 285513.81754451, 330701.05798161, 235846.42752438,\n",
       "       433112.49894969, 432634.7864775 , 368231.76878201, 173684.30917719,\n",
       "       259533.765569  , 201309.13960478, 282094.90595519, 398361.93908345,\n",
       "       207265.16995884, 377206.35077101, 121935.55914484, 385680.65561439,\n",
       "       236803.13032933, 302701.31315965, 357679.37944998, 311016.22931636,\n",
       "       288136.98994202, 346807.27346224, 119346.02313099, 309159.99384428,\n",
       "       482188.32255691, 358003.64228837, 281819.47770393, 294844.00257855,\n",
       "       481417.33363019, 373548.07165904, 217127.28055462, 496030.05928789,\n",
       "       513406.17434239, 313929.92927988, 315568.94453   , 267162.0330336 ,\n",
       "       230711.59145749, 367353.40388711, 391414.36748182, 349494.0455089 ,\n",
       "       230276.25892396, 389560.70077457, 181805.97478388, 354096.51002631,\n",
       "       203491.81031771, 262880.83365587, 299862.98073944,  97195.35533286,\n",
       "       311321.56330133, 212719.13084148, 342628.47119078, 621687.66089425,\n",
       "       253634.04233483, 434504.80578404, 157455.97802806, 572729.73258194,\n",
       "       476898.09971566, 169178.62425028, 365676.81897714, 337145.69479685,\n",
       "       322477.15812174, 416398.78191252, 206614.28112884, 397974.36694012,\n",
       "       408296.1775855 , 304995.84208012, 507544.03900854, 385068.69282712,\n",
       "       197411.01448587, 437689.14456951, 308569.87668106, 242746.09108063,\n",
       "       550039.49510003, 235580.48930802, 473322.62476719, 299081.36134588,\n",
       "       388594.02102187, 253743.43493073, 290496.73897541, 304722.93637392,\n",
       "       237395.68939268, 405296.90539669, 150659.0315776 , 376157.26689876,\n",
       "       480277.59348612, 219630.54266038, 352009.53964056, 288643.64054701,\n",
       "       613957.86981843, 197521.01798828, 454056.62809356, 354681.72034201,\n",
       "       144684.73371601, 320507.71570311, 392879.01838016, 274434.53489158,\n",
       "       227556.50539511, 350990.0611338 , 198407.42933962, 323245.8927417 ,\n",
       "       483765.84615545, 539328.5578596 , 284490.87099327, 465715.90179338,\n",
       "       252789.63294807, 379588.10419609, 575048.42327947, 351233.71796489,\n",
       "       424684.20016356, 283059.87735502, 244029.55810337, 378340.21392995,\n",
       "       327829.32328634, 429944.50323879, 273414.79605395, 334972.18567   ,\n",
       "       168865.73869146, 240880.1862781 , 422133.70495684, 146379.29573602,\n",
       "       342802.01320474, 346877.49870012, 527399.93842688, 269031.88912736,\n",
       "       312993.68450229, 253286.89236749, 472683.43561534, 416132.13027753,\n",
       "       314443.4709745 , 532221.13871064, 444158.55230536, 347114.09762418,\n",
       "       218753.62496468, 443039.41456792, 459788.34512848, 475605.54480598,\n",
       "       501841.295896  , 404496.65068759, 295506.46144606, 190028.76972885,\n",
       "       310923.2210989 , 235086.65310928, 501640.45316898, 206206.1630385 ,\n",
       "       241748.43128377, 530004.67238681, 334311.79658994, 233014.76044487,\n",
       "       377550.17609265, 322802.20777386, 400820.973044  , 395055.27758393,\n",
       "       186316.24108084, 493361.37520569, 312276.50345586, 299488.27380156,\n",
       "       411056.51087521, 506791.44016911, 281866.29452919, 422544.17915302,\n",
       "       535267.95747057, 399483.08918343, 390706.17783357, 222045.37878737,\n",
       "       362466.27391785, 496683.80696125, 239840.76891719, 608531.19968131,\n",
       "       256001.0878717 , 187943.79424088, 286891.6312127 , 278858.93768393,\n",
       "       443547.78598335, 390070.05578518, 271530.60551138, 334424.85462511,\n",
       "       305379.84358692, 448098.38813101, 244505.41879454, 231770.77051663,\n",
       "       400588.48482048, 328090.1598842 , 377122.47234186, 380498.34227119,\n",
       "       452006.71995914, 550195.23908779, 295213.69460785, 267061.89604405,\n",
       "       200354.71088575, 436350.05844222, 203118.03299319, 465841.06391084,\n",
       "       376771.23467461, 523886.91455389, 277105.37933298, 164830.83828636,\n",
       "       351937.7028655 , 234358.94123745, 334855.1911337 , 324641.17726263,\n",
       "       231052.89253973, 255915.12543966, 377261.43779433, 441655.2209062 ,\n",
       "       527806.76443854, 680472.56536154, 320902.4913743 , 444923.13088531,\n",
       "       134467.79223767, 254436.2504002 , 294264.75691964, 431444.77538542,\n",
       "       315586.11068295, 367023.8910664 , 306952.56242224, 210448.30558127,\n",
       "       504980.21801821, 275981.28924981, 398738.62103775, 415320.19988771,\n",
       "       334346.44275553, 524601.63783827, 269472.5030727 , 254295.53964261,\n",
       "       364224.19026676, 293738.91411106, 238578.73799758, 360526.71972867,\n",
       "       299958.25326821, 394116.93238298, 438841.02178674, 326214.85181442,\n",
       "       286258.31533854, 261246.31725363, 129533.27724297, 275324.24275746,\n",
       "       424026.07056111, 271010.21852999, 332678.68550336, 356166.5709934 ,\n",
       "       266204.65591323, 239257.70574632, 435436.73671369, 432994.18664651,\n",
       "       417815.87899237, 374849.47586146, 453652.67085153, 310740.80616221,\n",
       "       302542.58582543, 197990.9617599 , 220280.06624435, 280255.05649476,\n",
       "       412937.94118434, 367549.65916953])"
      ]
     },
     "execution_count": 34,
     "metadata": {},
     "output_type": "execute_result"
    }
   ],
   "source": [
    "y_pred"
   ]
  },
  {
   "cell_type": "code",
   "execution_count": 35,
   "metadata": {},
   "outputs": [
    {
     "data": {
      "text/plain": [
       "521    450963\n",
       "737    383881\n",
       "740    257699\n",
       "660    420563\n",
       "411    332728\n",
       "        ...  \n",
       "506    199582\n",
       "342    266012\n",
       "485    232183\n",
       "711    433108\n",
       "133    358205\n",
       "Name: sales, Length: 330, dtype: int64"
      ]
     },
     "execution_count": 35,
     "metadata": {},
     "output_type": "execute_result"
    }
   ],
   "source": [
    "y_test"
   ]
  },
  {
   "cell_type": "code",
   "execution_count": 36,
   "metadata": {},
   "outputs": [
    {
     "data": {
      "text/plain": [
       "(330,)"
      ]
     },
     "execution_count": 36,
     "metadata": {},
     "output_type": "execute_result"
    }
   ],
   "source": [
    "y_test.shape"
   ]
  },
  {
   "cell_type": "code",
   "execution_count": 37,
   "metadata": {},
   "outputs": [],
   "source": [
    "from sklearn.metrics import mean_absolute_error, mean_squared_error,root_mean_squared_error,r2_score"
   ]
  },
  {
   "cell_type": "code",
   "execution_count": 38,
   "metadata": {},
   "outputs": [
    {
     "data": {
      "text/plain": [
       "19780.41194858047"
      ]
     },
     "execution_count": 38,
     "metadata": {},
     "output_type": "execute_result"
    }
   ],
   "source": [
    "mean_absolute_error(y_test,y_pred)"
   ]
  },
  {
   "cell_type": "code",
   "execution_count": 39,
   "metadata": {},
   "outputs": [
    {
     "data": {
      "text/plain": [
       "611171798.92306"
      ]
     },
     "execution_count": 39,
     "metadata": {},
     "output_type": "execute_result"
    }
   ],
   "source": [
    "mean_squared_error(y_test,y_pred)"
   ]
  },
  {
   "cell_type": "code",
   "execution_count": 40,
   "metadata": {},
   "outputs": [
    {
     "data": {
      "text/plain": [
       "24721.88906461357"
      ]
     },
     "execution_count": 40,
     "metadata": {},
     "output_type": "execute_result"
    }
   ],
   "source": [
    "root_mean_squared_error(y_test,y_pred)"
   ]
  },
  {
   "cell_type": "markdown",
   "metadata": {},
   "source": [
    "Each blue dot represents an (actual, predicted) pair.\n",
    "Red dashed line represents the perfect fit (ideal case where y_pred = y_actual).\n",
    "R² Score (R-squared) indicates how well the model explains variance:\n",
    "R² = 1 → Perfect fit.\n",
    "R² > 0.9 → Very good model.\n",
    "R² ≈ 0.5 → Moderate fit.\n",
    "R² < 0.2 → Poor fit."
   ]
  },
  {
   "cell_type": "code",
   "execution_count": 41,
   "metadata": {},
   "outputs": [
    {
     "name": "stdout",
     "output_type": "stream",
     "text": [
      "R-squared: 0.949\n"
     ]
    }
   ],
   "source": [
    "r2 = r2_score(y_test, y_pred)\n",
    "print(f\"R-squared: {r2:.3f}\")"
   ]
  },
  {
   "cell_type": "code",
   "execution_count": null,
   "metadata": {},
   "outputs": [
    {
     "data": {
      "image/png": "[encoded data removed]",
      "text/plain": [
       "<Figure size 700x500 with 1 Axes>"
      ]
     },
     "metadata": {},
     "output_type": "display_data"
    }
   ],
   "source": [
    "#plotting R-square plot\n",
    "plt.figure(figsize=(7, 5))\n",
    "sns.scatterplot(x=y_test, y=y_pred, alpha=0.7, edgecolor='k')  # Scatter plot of actual vs predicted\n",
    "sns.lineplot(x=y_test, y=y_test, color='red', linestyle='--')  # Ideal 1:1 line\n",
    "\n",
    "plt.xlabel(\"Actual Values\")\n",
    "plt.ylabel(\"Predicted Values\")\n",
    "plt.title(f\"R² Plot (R² = {r2:.3f})\")\n",
    "plt.grid(True)\n",
    "plt.show()"
   ]
  },
  {
   "cell_type": "code",
   "execution_count": 43,
   "metadata": {},
   "outputs": [
    {
     "data": {
      "text/plain": [
       "<bound method BaseEstimator.get_params of MLPRegressor(alpha=0.01, hidden_layer_sizes=(10,), max_iter=2500,\n",
       "             random_state=42, solver='lbfgs')>"
      ]
     },
     "execution_count": 43,
     "metadata": {},
     "output_type": "execute_result"
    }
   ],
   "source": [
    "best_model.get_params"
   ]
  },
  {
   "cell_type": "code",
   "execution_count": 44,
   "metadata": {},
   "outputs": [
    {
     "data": {
      "text/plain": [
       "(10,)"
      ]
     },
     "execution_count": 44,
     "metadata": {},
     "output_type": "execute_result"
    }
   ],
   "source": [
    "best_model.hidden_layer_sizes"
   ]
  },
  {
   "cell_type": "code",
   "execution_count": 45,
   "metadata": {},
   "outputs": [
    {
     "data": {
      "text/plain": [
       "889"
      ]
     },
     "execution_count": 45,
     "metadata": {},
     "output_type": "execute_result"
    }
   ],
   "source": [
    "best_model.n_iter_"
   ]
  },
  {
   "cell_type": "code",
   "execution_count": 46,
   "metadata": {},
   "outputs": [
    {
     "data": {
      "text/plain": [
       "1"
      ]
     },
     "execution_count": 46,
     "metadata": {},
     "output_type": "execute_result"
    }
   ],
   "source": [
    "best_model.n_outputs_"
   ]
  },
  {
   "cell_type": "code",
   "execution_count": 47,
   "metadata": {},
   "outputs": [
    {
     "data": {
      "text/plain": [
       "11"
      ]
     },
     "execution_count": 47,
     "metadata": {},
     "output_type": "execute_result"
    }
   ],
   "source": [
    "best_model.n_features_in_"
   ]
  },
  {
   "cell_type": "code",
   "execution_count": 99,
   "metadata": {},
   "outputs": [],
   "source": [
    "from joblib import dump,load"
   ]
  },
  {
   "cell_type": "code",
   "execution_count": 100,
   "metadata": {},
   "outputs": [
    {
     "data": {
      "text/plain": [
       "['model_lr_final.joblib']"
      ]
     },
     "execution_count": 100,
     "metadata": {},
     "output_type": "execute_result"
    }
   ],
   "source": [
    "#saving the model for future use\n",
    "dump(best_model,'model_lr_final.joblib')"
   ]
  },
  {
   "cell_type": "code",
   "execution_count": 101,
   "metadata": {},
   "outputs": [],
   "source": [
    "#loading it some other day for a new set of test data for deployment purposes\n",
    "loaded_model_lr=load('model_lr_final.joblib')"
   ]
  },
  {
   "cell_type": "code",
   "execution_count": 102,
   "metadata": {},
   "outputs": [
    {
     "data": {
      "text/plain": [
       "11"
      ]
     },
     "execution_count": 102,
     "metadata": {},
     "output_type": "execute_result"
    }
   ],
   "source": [
    "#checking if loaded model has same set of learned parameters e,g regression coefficients in this case \n",
    "loaded_model_lr.n_features_in_"
   ]
  },
  {
   "cell_type": "code",
   "execution_count": 44,
   "metadata": {},
   "outputs": [],
   "source": [
    "# To save the trained models use pickle\n",
    "import pickle\n",
    "\n",
    "for i, estimator in enumerate(scores_df['estimator']):\n",
    "    with open(f\"model_fold_{i+1}.pkl\", \"wb\") as f:\n",
    "        pickle.dump(estimator, f)"
   ]
  },
  {
   "cell_type": "code",
   "execution_count": 45,
   "metadata": {},
   "outputs": [],
   "source": [
    "# To load the trained models use pickle\n",
    "with open(\"model_fold_1.pkl\", \"rb\") as f:\n",
    "    model = pickle.load(f)\n",
    "    \n",
    "# Predict using the loaded model\n",
    "y_pred = model.predict(X_test_transf)"
   ]
  },
  {
   "cell_type": "code",
   "execution_count": 46,
   "metadata": {},
   "outputs": [
    {
     "data": {
      "text/plain": [
       "array([460387.87996495, 379826.77830008, 168424.44913273, 392405.32657024,\n",
       "       322213.24125098, 446581.95677458, 334467.34595758, 410916.33912425,\n",
       "       288758.72476033, 177321.65120081, 348407.52371612, 400134.89655435,\n",
       "       473623.97217122, 304507.62827181, 280541.42421944, 442009.95224941,\n",
       "       341392.84692433, 356435.98012033, 561001.40498191, 205237.49023518,\n",
       "       516584.8919233 , 580745.35533602, 536632.89122119, 394597.39393144,\n",
       "       254655.87457295, 226510.85938618, 409705.89793789, 278423.96522861,\n",
       "       223797.0788861 , 387494.43582346, 262722.18731129, 289825.103749  ,\n",
       "       283325.86023028, 236782.33818986, 384105.56566068, 252651.10210858,\n",
       "       271559.6332825 , 352332.36577409, 434116.38909368, 362214.3701188 ,\n",
       "       230569.23735425, 308495.75975838, 476646.20665219, 364132.14063947,\n",
       "       389778.04212148, 263457.18932427, 401839.00887965, 234747.79445613,\n",
       "       204320.33528993, 243363.74430944, 453905.83707768, 593015.24521069,\n",
       "       320971.55410763, 335601.8859143 , 379402.86726675, 328739.48295079,\n",
       "       296645.6994446 , 279668.04619344, 498819.54576061, 381262.43660057,\n",
       "       295542.45130441, 355492.54344249, 376527.13118753, 257310.64939879,\n",
       "       531894.62987872, 362890.22071153, 370243.56870034, 447330.95432834,\n",
       "       373767.03372118, 389530.57790319, 188734.46142507, 389941.24319311,\n",
       "       599729.30040802, 474630.61209755, 406965.62913433, 254125.88124732,\n",
       "       417298.3249455 , 283036.6581749 , 329320.71449302, 240302.80797723,\n",
       "       432931.39052875, 427929.43123506, 365718.6937916 , 174081.0738952 ,\n",
       "       259843.21893011, 218941.226379  , 287889.13700608, 395016.52421485,\n",
       "       207400.03062587, 372017.69109847, 102315.18112877, 381327.06803982,\n",
       "       250109.7669866 , 305378.96674366, 352646.24564099, 313467.05868984,\n",
       "       290913.97131779, 353768.24561049, 100310.59437352, 306837.71239269,\n",
       "       478444.39173833, 359062.54871312, 284323.36872621, 297484.77100848,\n",
       "       475652.68111449, 374186.17076051, 214164.47674137, 499188.4028035 ,\n",
       "       509694.58508229, 312605.80210721, 311125.56803144, 265316.21332228,\n",
       "       228720.35117922, 367934.85704905, 393276.12173642, 346665.14795286,\n",
       "       236294.30159903, 388320.70950323, 182050.50186904, 353471.11275951,\n",
       "       180488.21397655, 269830.21782382, 306175.75002599, 101845.28440371,\n",
       "       309922.92880923, 211475.31280028, 344227.8814445 , 625017.03037563,\n",
       "       251787.20389305, 434147.25807713, 184998.21841249, 600841.95960616,\n",
       "       475294.50285132, 183055.37298022, 366242.11964693, 341056.21469052,\n",
       "       321280.32575755, 414281.89382948, 200678.55904642, 399195.33534925,\n",
       "       410819.44971711, 301230.13929604, 503664.99932413, 380697.62468914,\n",
       "       199064.95331593, 433572.57813173, 308250.36218359, 261048.27328425,\n",
       "       550813.09432524, 242805.63064693, 469244.22801468, 293519.00245607,\n",
       "       384695.6287984 , 279690.85333603, 290974.39347273, 305506.48815151,\n",
       "       233694.2452343 , 401503.65107311, 155817.11404679, 376162.02961438,\n",
       "       474906.38573202, 236879.67241455, 350726.08137645, 287041.62921849,\n",
       "       609764.25197498, 197618.6195744 , 449629.4256746 , 354073.03946098,\n",
       "       157044.74293226, 321805.56293627, 391020.50512055, 274119.6446564 ,\n",
       "       231776.08630325, 350270.48742937, 193106.41469268, 319735.11523947,\n",
       "       477135.0355386 , 553955.33032415, 281463.92223984, 460706.91201083,\n",
       "       260369.24662558, 380550.77723617, 614967.60165075, 349928.09854936,\n",
       "       430081.90157378, 286578.85499819, 250807.97908504, 383127.99357275,\n",
       "       327346.64114897, 423913.7124358 , 276537.99799615, 330369.74898633,\n",
       "       166828.29089589, 240788.03892187, 420692.41971629, 151930.93934105,\n",
       "       345271.73146559, 353849.96531704, 520968.45910009, 277497.90075922,\n",
       "       317284.62769774, 244608.03837859, 467429.05935294, 413806.10266505,\n",
       "       316107.13513633, 528932.13249922, 444026.06801482, 347976.80862467,\n",
       "       245115.74786613, 436078.87574396, 455524.86776786, 468326.66102244,\n",
       "       494679.740361  , 404538.72294334, 295080.17660576, 199657.43378774,\n",
       "       310872.45198641, 234896.38880316, 496166.16124154, 210947.61043383,\n",
       "       244087.39465554, 528491.95442142, 335673.64312132, 234390.93980371,\n",
       "       369698.64534256, 323987.32771517, 403102.94577386, 389127.87973025,\n",
       "       199317.44925067, 483470.06383541, 313123.77905572, 302528.60828413,\n",
       "       408737.54139392, 516894.63254818, 284371.52286233, 423753.66918283,\n",
       "       530367.54073779, 410621.14667975, 389548.38759396, 226080.58395186,\n",
       "       361993.29584884, 494067.24491377, 247598.84987092, 642566.98266963,\n",
       "       264441.51229794, 190318.53910069, 290998.2427804 , 277071.0808706 ,\n",
       "       438770.92036034, 391893.41011362, 277746.01060175, 332706.4681184 ,\n",
       "       308436.42735617, 443299.46739072, 245606.81056115, 233111.41561545,\n",
       "       397225.45116993, 327614.92847876, 376088.45316994, 389532.64466038,\n",
       "       447520.96242888, 580051.22697163, 300565.4876198 , 265823.09933314,\n",
       "       179866.72497804, 434184.91059863, 198802.35731363, 464330.64217449,\n",
       "       371894.25516409, 521067.7107144 , 273256.30137926, 166140.12466333,\n",
       "       351363.17133698, 237833.3571593 , 334573.20114776, 322149.94744443,\n",
       "       238072.811291  , 222233.28725096, 375786.97580117, 445246.24742214,\n",
       "       539619.84036677, 696085.34355514, 318084.53305798, 437303.09104739,\n",
       "       111528.32839173, 257730.64384747, 290192.52338164, 427863.14900706,\n",
       "       317241.2332802 , 369767.07642868, 309340.76161253, 212256.38171621,\n",
       "       504293.64149966, 269966.31076408, 392305.27248034, 415343.64703123,\n",
       "       335326.28085545, 549779.25937749, 267709.55903915, 255299.90738546,\n",
       "       360190.9469174 , 294176.97131496, 238366.67228915, 359998.33878111,\n",
       "       294786.54462628, 389244.56707891, 439651.19698926, 329600.19952952,\n",
       "       290461.69808287, 257555.39365743, 101194.94456928, 268942.44440177,\n",
       "       416519.90660928, 270597.51355751, 336400.19215385, 370108.03538897,\n",
       "       269987.25283525, 238473.27761405, 434608.1898866 , 438629.26073466,\n",
       "       417197.30568534, 368713.43160061, 450705.40743258, 315590.07766978,\n",
       "       318505.32283061, 213488.27359156, 210244.53201029, 279662.01566363,\n",
       "       413008.20139159, 367308.54773103])"
      ]
     },
     "execution_count": 46,
     "metadata": {},
     "output_type": "execute_result"
    }
   ],
   "source": [
    "y_pred"
   ]
  }
 ],
 "metadata": {
  "kernelspec": {
   "display_name": "msc_env",
   "language": "python",
   "name": "python3"
  },
  "language_info": {
   "codemirror_mode": {
    "name": "ipython",
    "version": 3
   },
   "file_extension": ".py",
   "mimetype": "text/x-python",
   "name": "python",
   "nbconvert_exporter": "python",
   "pygments_lexer": "ipython3",
   "version": "3.11.2"
  }
 },
 "nbformat": 4,
 "nbformat_minor": 2
}
